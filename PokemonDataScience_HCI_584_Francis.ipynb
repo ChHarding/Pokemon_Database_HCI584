{
 "cells": [
  {
   "cell_type": "markdown",
   "metadata": {},
   "source": [
    "Pokemon Data science project"
   ]
  },
  {
   "cell_type": "markdown",
   "metadata": {},
   "source": []
  },
  {
   "cell_type": "code",
   "execution_count": 2,
   "metadata": {},
   "outputs": [],
   "source": [
    "import pandas as pd  # access to pandas-defined classes and their methods\n"
   ]
  },
  {
   "cell_type": "code",
   "execution_count": 3,
   "metadata": {},
   "outputs": [
    {
     "name": "stdout",
     "output_type": "stream",
     "text": [
      "      index  pokedex_number                  name german_name  generation  \\\n",
      "0         1               1             Bulbasaur     Bisasam           1   \n",
      "1         2               2               Ivysaur   Bisaknosp           1   \n",
      "2         3               3              Venusaur    Bisaflor           1   \n",
      "3         4               3         Mega Venusaur    Bisaflor           1   \n",
      "4         5               4            Charmander    Glumanda           1   \n",
      "...     ...             ...                   ...         ...         ...   \n",
      "1040   1041             896             Glastrier    Polaross           8   \n",
      "1041   1042             897             Spectrier  Phantoross           8   \n",
      "1042   1043             898               Calyrex   Coronospa           8   \n",
      "1043   1044             898     Calyrex Ice Rider   Coronospa           8   \n",
      "1044   1045             898  Calyrex Shadow Rider   Coronospa           8   \n",
      "\n",
      "             status              species   type_1  type_2  height_m  ...  \\\n",
      "0            Normal         Seed Pokémon    Grass  Poison       0.7  ...   \n",
      "1            Normal         Seed Pokémon    Grass  Poison       1.0  ...   \n",
      "2            Normal         Seed Pokémon    Grass  Poison       2.0  ...   \n",
      "3            Normal         Seed Pokémon    Grass  Poison       2.4  ...   \n",
      "4            Normal       Lizard Pokémon     Fire     NaN       0.6  ...   \n",
      "...             ...                  ...      ...     ...       ...  ...   \n",
      "1040  Sub Legendary   Wild Horse Pokémon      Ice     NaN       2.2  ...   \n",
      "1041  Sub Legendary  Swift Horse Pokémon    Ghost     NaN       2.0  ...   \n",
      "1042      Legendary         King Pokémon  Psychic   Grass       1.1  ...   \n",
      "1043      Legendary    High King Pokémon  Psychic     Ice       2.4  ...   \n",
      "1044      Legendary    High King Pokémon  Psychic   Ghost       2.4  ...   \n",
      "\n",
      "      against_ground  against_flying against_psychic against_bug against_rock  \\\n",
      "0                1.0             2.0             2.0         1.0          1.0   \n",
      "1                1.0             2.0             2.0         1.0          1.0   \n",
      "2                1.0             2.0             2.0         1.0          1.0   \n",
      "3                1.0             2.0             2.0         1.0          1.0   \n",
      "4                2.0             1.0             1.0         0.5          2.0   \n",
      "...              ...             ...             ...         ...          ...   \n",
      "1040             1.0             1.0             1.0         1.0          2.0   \n",
      "1041             1.0             1.0             1.0         0.5          1.0   \n",
      "1042             0.5             2.0             0.5         4.0          1.0   \n",
      "1043             1.0             1.0             0.5         2.0          2.0   \n",
      "1044             1.0             1.0             0.5         1.0          1.0   \n",
      "\n",
      "      against_ghost  against_dragon  against_dark  against_steel  \\\n",
      "0               1.0             1.0           1.0            1.0   \n",
      "1               1.0             1.0           1.0            1.0   \n",
      "2               1.0             1.0           1.0            1.0   \n",
      "3               1.0             1.0           1.0            1.0   \n",
      "4               1.0             1.0           1.0            0.5   \n",
      "...             ...             ...           ...            ...   \n",
      "1040            1.0             1.0           1.0            2.0   \n",
      "1041            2.0             1.0           2.0            1.0   \n",
      "1042            2.0             1.0           2.0            1.0   \n",
      "1043            2.0             1.0           2.0            2.0   \n",
      "1044            4.0             1.0           4.0            1.0   \n",
      "\n",
      "      against_fairy  \n",
      "0               0.5  \n",
      "1               0.5  \n",
      "2               0.5  \n",
      "3               0.5  \n",
      "4               0.5  \n",
      "...             ...  \n",
      "1040            1.0  \n",
      "1041            1.0  \n",
      "1042            1.0  \n",
      "1043            1.0  \n",
      "1044            1.0  \n",
      "\n",
      "[1045 rows x 48 columns]\n"
     ]
    }
   ],
   "source": [
    "# import the data from the \"pokemondata\" file\n",
    "poke = \"Pokemondata.csv\"  # hardcoded (Since there is only one DB I am currently using)\n",
    "\n",
    "df = pd.read_csv(poke)\n",
    "print(df) # formatted, with leading index row\n",
    "#printed this for reference"
   ]
  },
  {
   "cell_type": "code",
   "execution_count": 4,
   "metadata": {},
   "outputs": [
    {
     "name": "stdout",
     "output_type": "stream",
     "text": [
      "Index(['index', 'pokedex_number', 'name', 'german_name', 'generation',\n",
      "       'status', 'species', 'type_1', 'type_2', 'height_m', 'weight_kg',\n",
      "       'abilities_number', 'ability_1', 'ability_2', 'ability_hidden',\n",
      "       'total_points', 'hp', 'attack', 'defense', 'sp_attack', 'sp_defense',\n",
      "       'speed', 'catch_rate', 'base_friendship', 'base_experience',\n",
      "       'growth_rate', 'egg_type_1', 'egg_type_2', 'percentage_male',\n",
      "       'egg_cycles', 'against_normal', 'against_fire', 'against_water',\n",
      "       'against_electric', 'against_grass', 'against_ice', 'against_fight',\n",
      "       'against_poison', 'against_ground', 'against_flying', 'against_psychic',\n",
      "       'against_bug', 'against_rock', 'against_ghost', 'against_dragon',\n",
      "       'against_dark', 'against_steel', 'against_fairy'],\n",
      "      dtype='object')\n"
     ]
    }
   ],
   "source": [
    "#printed this for reference as I am doing case scenarios I have all the columns instead of going back to the file\n",
    "print(df.columns)\n"
   ]
  },
  {
   "cell_type": "markdown",
   "metadata": {},
   "source": [
    "Notes below"
   ]
  },
  {
   "cell_type": "code",
   "execution_count": 5,
   "metadata": {},
   "outputs": [],
   "source": [
    "#Read Headers\n",
    "    #df.columns\n",
    "\n",
    "#Read each Column\n",
    "    #print(df[['Name', 'Type 1', 'HP']])\n",
    "\n",
    "#Read Each Row\n",
    "    #print(df.iloc[0:4])\n",
    "    # for index, row in df.iterrows():\n",
    "    #     print(index, row['Name'])\n",
    "    #df.loc[df['Type 1'] == \"Grass\"]\n",
    "\n",
    "#Read a specific location (R,C)\n",
    "    #print(df.iloc[2,1])\n",
    "\n",
    "#Sorting/Describing Data\n",
    "    #df.sort_values(['Type 1', 'HP'], ascending=[1,0])\n",
    "\n",
    "#Filtering data\n",
    "    # new_df = df.loc[(df['Type 1'] == 'Grass') & (df['Type 2'] == 'Poison') & (df['HP'] > 70)]\n",
    "    # new_df.reset_index(drop=True, inplace=True)\n",
    "    # new_df\n",
    "    # new_df.to_csv('filtered.csv')\n",
    "\n",
    "#saving output to a desired file\n",
    "    # df.to_csv('modified.csv', index=False)\n"
   ]
  },
  {
   "cell_type": "markdown",
   "metadata": {},
   "source": [
    "First user case scenario:\n",
    "\n",
    "This user wants to know the fastest fire type pokemon. Pokemon have the possibility of having 2 types. A primary and a secondary. Either way it is fire type so the search needs to include pokemon that have fire as either of it's typings. With there being over 1000 pokemon to narrow the search down only pokemon that fit the criteria of being a fire type and have a speed of at least 100. Taking those results, sort them in a descending order based on speed. Since the user is only interested in speed and typing the results print the pokemon's name, types, and speed. The user finds that Galarian Darmanitan in Zen mode is the fastest fire type pokemon. To give complete data on the winner of the query the full data for the pokemon is printed out."
   ]
  },
  {
   "cell_type": "code",
   "execution_count": 11,
   "metadata": {},
   "outputs": [
    {
     "name": "stdout",
     "output_type": "stream",
     "text": [
      "                             name  type_1    type_2  speed\n",
      "658  Galarian Darmanitan Zen Mode     Ice      Fire    135\n",
      "776                    Talonflame    Fire    Flying    126\n",
      "951                     Cinderace    Fire       NaN    119\n",
      "890                      Salazzle  Poison      Fire    117\n",
      "281                 Mega Houndoom    Dark      Fire    115\n",
      "475                     Infernape    Fire  Fighting    108\n",
      "942                   Blacephalon    Fire     Ghost    107\n",
      "781                        Pyroar    Fire    Normal    106\n",
      "101                      Rapidash    Fire       NaN    105\n",
      "767                       Delphox    Fire   Psychic    104\n",
      "611                      Simisear    Fire       NaN    101\n",
      "index                                        659\n",
      "pokedex_number                               555\n",
      "name                Galarian Darmanitan Zen Mode\n",
      "german_name                           Flampivian\n",
      "generation                                     5\n",
      "status                                    Normal\n",
      "species                        Zen Charm Pokémon\n",
      "type_1                                       Ice\n",
      "type_2                                      Fire\n",
      "height_m                                     1.7\n",
      "weight_kg                                  120.0\n",
      "abilities_number                               2\n",
      "ability_1                        Gorilla Tactics\n",
      "ability_2                                    NaN\n",
      "ability_hidden                          Zen Mode\n",
      "total_points                                 540\n",
      "hp                                           105\n",
      "attack                                       160\n",
      "defense                                       55\n",
      "sp_attack                                     30\n",
      "sp_defense                                    55\n",
      "speed                                        135\n",
      "catch_rate                                   NaN\n",
      "base_friendship                              NaN\n",
      "base_experience                              NaN\n",
      "growth_rate                                  NaN\n",
      "egg_type_1                                   NaN\n",
      "egg_type_2                                   NaN\n",
      "percentage_male                              NaN\n",
      "egg_cycles                                   NaN\n",
      "against_normal                               1.0\n",
      "against_fire                                 1.0\n",
      "against_water                                2.0\n",
      "against_electric                             1.0\n",
      "against_grass                                0.5\n",
      "against_ice                                 0.25\n",
      "against_fight                                2.0\n",
      "against_poison                               1.0\n",
      "against_ground                               2.0\n",
      "against_flying                               1.0\n",
      "against_psychic                              1.0\n",
      "against_bug                                  0.5\n",
      "against_rock                                 4.0\n",
      "against_ghost                                1.0\n",
      "against_dragon                               1.0\n",
      "against_dark                                 1.0\n",
      "against_steel                                1.0\n",
      "against_fairy                                0.5\n",
      "Name: 658, dtype: object\n"
     ]
    }
   ],
   "source": [
    "fast_fire = df.query(\"type_1 == 'Fire' or type_2 == 'Fire'\")\n",
    "most_fast = fast_fire.query(\"speed > 100\")\n",
    "final_fast = most_fast.sort_values(by=\"speed\", ascending=False)\n",
    "print(final_fast[['name', 'type_1', 'type_2','speed']])\n",
    "print(final_fast.iloc[0])"
   ]
  }
 ],
 "metadata": {
  "kernelspec": {
   "display_name": "Python 3.9.12 ('base')",
   "language": "python",
   "name": "python3"
  },
  "language_info": {
   "codemirror_mode": {
    "name": "ipython",
    "version": 3
   },
   "file_extension": ".py",
   "mimetype": "text/x-python",
   "name": "python",
   "nbconvert_exporter": "python",
   "pygments_lexer": "ipython3",
   "version": "3.9.12"
  },
  "orig_nbformat": 4,
  "vscode": {
   "interpreter": {
    "hash": "e03b612d84ba21ce95ed447e81b3062e1eb99b56c6d885cdab4aaa12f1b8e240"
   }
  }
 },
 "nbformat": 4,
 "nbformat_minor": 2
}
