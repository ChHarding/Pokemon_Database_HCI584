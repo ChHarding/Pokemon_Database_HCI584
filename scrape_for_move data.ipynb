{
 "cells": [
  {
   "cell_type": "code",
   "execution_count": 18,
   "metadata": {},
   "outputs": [],
   "source": [
    "## load in the lib\n",
    "import requests\n",
    "from bs4 import BeautifulStoneSoup as bs\n",
    "import pandas as pd"
   ]
  },
  {
   "cell_type": "markdown",
   "metadata": {},
   "source": [
    "Load in the webpage"
   ]
  },
  {
   "cell_type": "code",
   "execution_count": null,
   "metadata": {},
   "outputs": [],
   "source": [
    "\n",
    "# load webpage content\n",
    "r = requests.get(\"https://pokemondb.net/move/will-o-wisp\")\n",
    "\n",
    "#convert to a bsoup object\n",
    "soup = bs(r.content)\n",
    "\n",
    "#print html\n",
    "print(soup)"
   ]
  },
  {
   "cell_type": "markdown",
   "metadata": {},
   "source": [
    "Using Bsoup to scrape"
   ]
  },
  {
   "cell_type": "code",
   "execution_count": null,
   "metadata": {},
   "outputs": [],
   "source": [
    "#searchs page for the body stuff\n",
    "body = soup.find('body')\n",
    "#searchs the body for examples of the a tag with the class ent-name. This gives us the names of hte pokemon that can learn the move\n",
    "pokeNames = body.find_all('a', {'class':'ent-name'})\n",
    "for title in pokeNames:\n",
    "    print(title.text)\n",
    "\n",
    "\n",
    "\n"
   ]
  },
  {
   "cell_type": "code",
   "execution_count": null,
   "metadata": {},
   "outputs": [],
   "source": [
    "## load in the lib\n",
    "import requests\n",
    "from bs4 import BeautifulStoneSoup as bs\n",
    "\n",
    "# load webpage content\n",
    "r = requests.get(\"https://pokemondb.net/move/all\")\n",
    "\n",
    "#convert to a bsoup object\n",
    "soupymoves = bs(r.content)\n",
    "\n",
    "pokeMoves = soupymoves.find_all('a', {'class':'ent-name'})\n",
    "for title in pokeMoves:\n",
    "    print(title.text)\n",
    "\n",
    "len(pokeMoves)\n"
   ]
  },
  {
   "cell_type": "markdown",
   "metadata": {},
   "source": [
    "url getter"
   ]
  },
  {
   "cell_type": "code",
   "execution_count": null,
   "metadata": {},
   "outputs": [],
   "source": [
    "\n",
    "# import necessary libraries\n",
    "from bs4 import BeautifulSoup\n",
    "import requests\n",
    "import re\n",
    "  \n",
    "  \n",
    "# function to extract html document from given url\n",
    "def getHTMLdocument(url):\n",
    "      \n",
    "    # request for HTML document of given url\n",
    "    response = requests.get(url)\n",
    "      \n",
    "    # response will be provided in JSON format\n",
    "    return response.text\n",
    "  \n",
    "    \n",
    "# assign required credentials\n",
    "# assign URL\n",
    "url_to_scrape = \"https://pokemondb.net/move/all\"\n",
    "  \n",
    "# create document\n",
    "html_document = getHTMLdocument(url_to_scrape)\n",
    "  \n",
    "# create soap object\n",
    "soup = BeautifulSoup(html_document, 'html.parser')\n",
    "  \n",
    "  \n",
    "# find all the anchor tags with \"ent-name\" \n",
    "# attribute starting with \"/move/(whatevermove)\"\n",
    "for link in soup.find_all('a',\n",
    "                            attrs={'href': re.compile(\"/move/\")}):\n",
    "    # display the actual urls?????????\n",
    "    links = (link.get('href'))\n",
    "    listOfLinks = ( \"https://pokemondb.net\" + links)\n",
    "    print(listOfLinks)\n",
    "\n"
   ]
  },
  {
   "cell_type": "markdown",
   "metadata": {},
   "source": [
    "putting it all together"
   ]
  },
  {
   "cell_type": "code",
   "execution_count": 2,
   "metadata": {},
   "outputs": [],
   "source": [
    "# import necessary libraries\n",
    "from bs4 import BeautifulSoup as bs\n",
    "import requests\n",
    "import re\n",
    "import csv\n",
    "\n",
    "move_dict = {}\n",
    "\n",
    "def who_can_learn_me():\n",
    "    body = soup.find('body')\n",
    "    #searchs the body for examples of the a tag with the class ent-name. This gives us the names of hte pokemon that can learn the move\n",
    "    pokeNames = body.find_all('a', {'class':'ent-name'})\n",
    "    for title in pokeNames:\n",
    "        print(title.text)\n",
    "\n",
    "# function to extract html document from given url\n",
    "def getHTMLdocument(url):\n",
    "    # request for HTML document of given url\n",
    "    response = requests.get(url)\n",
    "    # response will be provided in JSON format\n",
    "    return response.text\n",
    "\n",
    "# assign required credentials\n",
    "# assign URL\n",
    "url_to_scrape = \"https://pokemondb.net/move/all\"\n",
    "# create document\n",
    "html_document = getHTMLdocument(url_to_scrape)\n",
    "# create soap object\n",
    "soup = bs(html_document, 'html.parser')\n",
    "# find all the anchor tags with \"ent-name\" \n",
    "# attribute starting with \"/move/(whatevermove)\"\n",
    "for link in soup.find_all('a',\n",
    "                            attrs={'href': re.compile(\"/move/\")}):\n",
    "    # display the actual urls?????????\n",
    "    links = (link.get('href'))\n",
    "    listOfLinks =( \"https://pokemondb.net\" + links)\n",
    "    ##print(listOfLinks)\n",
    "  \n",
    "    # load webpage content\n",
    "    r = requests.get(listOfLinks)\n",
    "\n",
    "    #convert to a bsoup object\n",
    "    soup = bs(r.content)\n",
    "    #print html\n",
    "    #print(soup)\n",
    "    #searchs page for the body stuff\n",
    "    body = soup.find('body')\n",
    "    #searchs the body for examples of the a tag with the class ent-name. This gives us the names of hte pokemon that can learn the move\n",
    "    pokeNames = body.find_all('a', {'class':'ent-name'})\n",
    "\n",
    "    move_dict[links[6:]] = []\n",
    "\n",
    "    for title in pokeNames:\n",
    "        # the_end = (links[6:] + \" \" + title.text)\n",
    "        move_dict[links[6:]].append(title.text)\n",
    "    for key in move_dict:\n",
    "        print( key ,move_dict[key])\n",
    "\n"
   ]
  }
 ],
 "metadata": {
  "kernelspec": {
   "display_name": "Python 3.9.12 ('base')",
   "language": "python",
   "name": "python3"
  },
  "language_info": {
   "codemirror_mode": {
    "name": "ipython",
    "version": 3
   },
   "file_extension": ".py",
   "mimetype": "text/x-python",
   "name": "python",
   "nbconvert_exporter": "python",
   "pygments_lexer": "ipython3",
   "version": "3.9.12"
  },
  "orig_nbformat": 4,
  "vscode": {
   "interpreter": {
    "hash": "e03b612d84ba21ce95ed447e81b3062e1eb99b56c6d885cdab4aaa12f1b8e240"
   }
  }
 },
 "nbformat": 4,
 "nbformat_minor": 2
}
